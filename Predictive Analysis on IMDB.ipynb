{
 "cells": [
  {
   "cell_type": "code",
   "execution_count": 60,
   "metadata": {
    "collapsed": false
   },
   "outputs": [],
   "source": [
    "import matplotlib.pyplot as plt\n",
    "%matplotlib inline\n",
    "from __future__ import print_function\n",
    "import pandas as pd\n",
    "import numpy as np\n",
    "import sys"
   ]
  },
  {
   "cell_type": "code",
   "execution_count": 61,
   "metadata": {
    "collapsed": false
   },
   "outputs": [
    {
     "data": {
      "text/html": [
       "<div>\n",
       "<table border=\"1\" class=\"dataframe\">\n",
       "  <thead>\n",
       "    <tr style=\"text-align: right;\">\n",
       "      <th></th>\n",
       "      <th>castTotalLikes</th>\n",
       "      <th>directorLikes</th>\n",
       "      <th>actor1likes</th>\n",
       "      <th>movieLikes</th>\n",
       "      <th>fbPosters</th>\n",
       "      <th>year</th>\n",
       "      <th>duration</th>\n",
       "      <th>genre</th>\n",
       "      <th>contentRating</th>\n",
       "      <th>criticReviews</th>\n",
       "      <th>userReviews</th>\n",
       "      <th>userVotes</th>\n",
       "      <th>rating</th>\n",
       "    </tr>\n",
       "  </thead>\n",
       "  <tbody>\n",
       "    <tr>\n",
       "      <th>0</th>\n",
       "      <td>4834</td>\n",
       "      <td>0.0</td>\n",
       "      <td>1000.0</td>\n",
       "      <td>33000</td>\n",
       "      <td>0.0</td>\n",
       "      <td>2009.0</td>\n",
       "      <td>178.0</td>\n",
       "      <td>Action</td>\n",
       "      <td>PG-13</td>\n",
       "      <td>723.0</td>\n",
       "      <td>3054.0</td>\n",
       "      <td>886204</td>\n",
       "      <td>7.9</td>\n",
       "    </tr>\n",
       "    <tr>\n",
       "      <th>1</th>\n",
       "      <td>48350</td>\n",
       "      <td>563.0</td>\n",
       "      <td>40000.0</td>\n",
       "      <td>0</td>\n",
       "      <td>0.0</td>\n",
       "      <td>2007.0</td>\n",
       "      <td>169.0</td>\n",
       "      <td>Action</td>\n",
       "      <td>PG-13</td>\n",
       "      <td>302.0</td>\n",
       "      <td>1238.0</td>\n",
       "      <td>471220</td>\n",
       "      <td>7.1</td>\n",
       "    </tr>\n",
       "    <tr>\n",
       "      <th>2</th>\n",
       "      <td>11700</td>\n",
       "      <td>0.0</td>\n",
       "      <td>11000.0</td>\n",
       "      <td>85000</td>\n",
       "      <td>1.0</td>\n",
       "      <td>2015.0</td>\n",
       "      <td>148.0</td>\n",
       "      <td>Action</td>\n",
       "      <td>PG-13</td>\n",
       "      <td>602.0</td>\n",
       "      <td>994.0</td>\n",
       "      <td>275868</td>\n",
       "      <td>6.8</td>\n",
       "    </tr>\n",
       "    <tr>\n",
       "      <th>3</th>\n",
       "      <td>106759</td>\n",
       "      <td>22000.0</td>\n",
       "      <td>27000.0</td>\n",
       "      <td>164000</td>\n",
       "      <td>0.0</td>\n",
       "      <td>2012.0</td>\n",
       "      <td>164.0</td>\n",
       "      <td>Action</td>\n",
       "      <td>PG-13</td>\n",
       "      <td>813.0</td>\n",
       "      <td>2701.0</td>\n",
       "      <td>1144337</td>\n",
       "      <td>8.5</td>\n",
       "    </tr>\n",
       "    <tr>\n",
       "      <th>4</th>\n",
       "      <td>143</td>\n",
       "      <td>131.0</td>\n",
       "      <td>131.0</td>\n",
       "      <td>0</td>\n",
       "      <td>0.0</td>\n",
       "      <td>NaN</td>\n",
       "      <td>NaN</td>\n",
       "      <td>Documentary</td>\n",
       "      <td>NaN</td>\n",
       "      <td>NaN</td>\n",
       "      <td>NaN</td>\n",
       "      <td>8</td>\n",
       "      <td>7.1</td>\n",
       "    </tr>\n",
       "  </tbody>\n",
       "</table>\n",
       "</div>"
      ],
      "text/plain": [
       "   castTotalLikes  directorLikes  actor1likes  movieLikes  fbPosters    year  \\\n",
       "0            4834            0.0       1000.0       33000        0.0  2009.0   \n",
       "1           48350          563.0      40000.0           0        0.0  2007.0   \n",
       "2           11700            0.0      11000.0       85000        1.0  2015.0   \n",
       "3          106759        22000.0      27000.0      164000        0.0  2012.0   \n",
       "4             143          131.0        131.0           0        0.0     NaN   \n",
       "\n",
       "   duration        genre contentRating  criticReviews  userReviews  userVotes  \\\n",
       "0     178.0       Action         PG-13          723.0       3054.0     886204   \n",
       "1     169.0       Action         PG-13          302.0       1238.0     471220   \n",
       "2     148.0       Action         PG-13          602.0        994.0     275868   \n",
       "3     164.0       Action         PG-13          813.0       2701.0    1144337   \n",
       "4       NaN  Documentary           NaN            NaN          NaN          8   \n",
       "\n",
       "   rating  \n",
       "0     7.9  \n",
       "1     7.1  \n",
       "2     6.8  \n",
       "3     8.5  \n",
       "4     7.1  "
      ]
     },
     "execution_count": 61,
     "metadata": {},
     "output_type": "execute_result"
    }
   ],
   "source": [
    "#Importing data file and selecting relevant variables\n",
    "\n",
    "data=pd.read_csv(\"../IMDb/IMDb.csv\")\n",
    "data.drop('id', axis=1)\n",
    "\n",
    "feature_cols=['castTotalLikes','directorLikes','actor1likes','movieLikes','fbPosters','year','duration','genre','contentRating','criticReviews','userReviews','userVotes','rating']\n",
    "data=data[feature_cols]\n",
    "data.head()"
   ]
  },
  {
   "cell_type": "code",
   "execution_count": 62,
   "metadata": {
    "collapsed": false
   },
   "outputs": [
    {
     "data": {
      "text/plain": [
       "castTotalLikes      0\n",
       "directorLikes     104\n",
       "actor1likes         7\n",
       "movieLikes          0\n",
       "fbPosters          13\n",
       "year              108\n",
       "duration           15\n",
       "genre               0\n",
       "contentRating     303\n",
       "criticReviews      50\n",
       "userReviews        21\n",
       "userVotes           0\n",
       "rating              0\n",
       "dtype: int64"
      ]
     },
     "execution_count": 62,
     "metadata": {},
     "output_type": "execute_result"
    }
   ],
   "source": [
    "#Summary of missing values\n",
    "data.isnull().sum()"
   ]
  },
  {
   "cell_type": "code",
   "execution_count": 63,
   "metadata": {
    "collapsed": false
   },
   "outputs": [
    {
     "data": {
      "text/html": [
       "<div>\n",
       "<table border=\"1\" class=\"dataframe\">\n",
       "  <thead>\n",
       "    <tr style=\"text-align: right;\">\n",
       "      <th></th>\n",
       "      <th>castTotalLikes</th>\n",
       "      <th>directorLikes</th>\n",
       "      <th>actor1likes</th>\n",
       "      <th>movieLikes</th>\n",
       "      <th>fbPosters</th>\n",
       "      <th>year</th>\n",
       "      <th>duration</th>\n",
       "      <th>criticReviews</th>\n",
       "      <th>userReviews</th>\n",
       "      <th>userVotes</th>\n",
       "      <th>rating</th>\n",
       "    </tr>\n",
       "  </thead>\n",
       "  <tbody>\n",
       "    <tr>\n",
       "      <th>count</th>\n",
       "      <td>4641.0</td>\n",
       "      <td>4641.0</td>\n",
       "      <td>4641.0</td>\n",
       "      <td>4641.0</td>\n",
       "      <td>4641.0</td>\n",
       "      <td>4641.0</td>\n",
       "      <td>4641.0</td>\n",
       "      <td>4641.0</td>\n",
       "      <td>4641.0</td>\n",
       "      <td>4641.0</td>\n",
       "      <td>4641.0</td>\n",
       "    </tr>\n",
       "    <tr>\n",
       "      <th>mean</th>\n",
       "      <td>10212.4</td>\n",
       "      <td>723.1</td>\n",
       "      <td>6883.4</td>\n",
       "      <td>7991.4</td>\n",
       "      <td>1.4</td>\n",
       "      <td>2002.1</td>\n",
       "      <td>108.8</td>\n",
       "      <td>148.9</td>\n",
       "      <td>291.4</td>\n",
       "      <td>89859.8</td>\n",
       "      <td>6.4</td>\n",
       "    </tr>\n",
       "    <tr>\n",
       "      <th>std</th>\n",
       "      <td>17929.4</td>\n",
       "      <td>2883.5</td>\n",
       "      <td>14600.7</td>\n",
       "      <td>19831.7</td>\n",
       "      <td>2.0</td>\n",
       "      <td>12.5</td>\n",
       "      <td>22.2</td>\n",
       "      <td>121.1</td>\n",
       "      <td>386.2</td>\n",
       "      <td>142162.3</td>\n",
       "      <td>1.1</td>\n",
       "    </tr>\n",
       "    <tr>\n",
       "      <th>min</th>\n",
       "      <td>0.0</td>\n",
       "      <td>0.0</td>\n",
       "      <td>0.0</td>\n",
       "      <td>0.0</td>\n",
       "      <td>0.0</td>\n",
       "      <td>1916.0</td>\n",
       "      <td>20.0</td>\n",
       "      <td>1.0</td>\n",
       "      <td>1.0</td>\n",
       "      <td>6.0</td>\n",
       "      <td>1.6</td>\n",
       "    </tr>\n",
       "    <tr>\n",
       "      <th>25%</th>\n",
       "      <td>1576.0</td>\n",
       "      <td>9.0</td>\n",
       "      <td>656.0</td>\n",
       "      <td>0.0</td>\n",
       "      <td>0.0</td>\n",
       "      <td>1999.0</td>\n",
       "      <td>94.0</td>\n",
       "      <td>61.0</td>\n",
       "      <td>80.0</td>\n",
       "      <td>11798.0</td>\n",
       "      <td>5.8</td>\n",
       "    </tr>\n",
       "    <tr>\n",
       "      <th>50%</th>\n",
       "      <td>3317.0</td>\n",
       "      <td>54.0</td>\n",
       "      <td>1000.0</td>\n",
       "      <td>181.0</td>\n",
       "      <td>1.0</td>\n",
       "      <td>2005.0</td>\n",
       "      <td>104.0</td>\n",
       "      <td>120.0</td>\n",
       "      <td>173.0</td>\n",
       "      <td>39956.0</td>\n",
       "      <td>6.5</td>\n",
       "    </tr>\n",
       "    <tr>\n",
       "      <th>75%</th>\n",
       "      <td>14638.0</td>\n",
       "      <td>212.0</td>\n",
       "      <td>12000.0</td>\n",
       "      <td>6000.0</td>\n",
       "      <td>2.0</td>\n",
       "      <td>2010.0</td>\n",
       "      <td>118.0</td>\n",
       "      <td>204.0</td>\n",
       "      <td>346.0</td>\n",
       "      <td>104481.0</td>\n",
       "      <td>7.2</td>\n",
       "    </tr>\n",
       "    <tr>\n",
       "      <th>max</th>\n",
       "      <td>656730.0</td>\n",
       "      <td>23000.0</td>\n",
       "      <td>640000.0</td>\n",
       "      <td>349000.0</td>\n",
       "      <td>43.0</td>\n",
       "      <td>2016.0</td>\n",
       "      <td>330.0</td>\n",
       "      <td>813.0</td>\n",
       "      <td>5060.0</td>\n",
       "      <td>1689764.0</td>\n",
       "      <td>9.3</td>\n",
       "    </tr>\n",
       "  </tbody>\n",
       "</table>\n",
       "</div>"
      ],
      "text/plain": [
       "       castTotalLikes  directorLikes  actor1likes  movieLikes  fbPosters  \\\n",
       "count          4641.0         4641.0       4641.0      4641.0     4641.0   \n",
       "mean          10212.4          723.1       6883.4      7991.4        1.4   \n",
       "std           17929.4         2883.5      14600.7     19831.7        2.0   \n",
       "min               0.0            0.0          0.0         0.0        0.0   \n",
       "25%            1576.0            9.0        656.0         0.0        0.0   \n",
       "50%            3317.0           54.0       1000.0       181.0        1.0   \n",
       "75%           14638.0          212.0      12000.0      6000.0        2.0   \n",
       "max          656730.0        23000.0     640000.0    349000.0       43.0   \n",
       "\n",
       "         year  duration  criticReviews  userReviews  userVotes  rating  \n",
       "count  4641.0    4641.0         4641.0       4641.0     4641.0  4641.0  \n",
       "mean   2002.1     108.8          148.9        291.4    89859.8     6.4  \n",
       "std      12.5      22.2          121.1        386.2   142162.3     1.1  \n",
       "min    1916.0      20.0            1.0          1.0        6.0     1.6  \n",
       "25%    1999.0      94.0           61.0         80.0    11798.0     5.8  \n",
       "50%    2005.0     104.0          120.0        173.0    39956.0     6.5  \n",
       "75%    2010.0     118.0          204.0        346.0   104481.0     7.2  \n",
       "max    2016.0     330.0          813.0       5060.0  1689764.0     9.3  "
      ]
     },
     "execution_count": 63,
     "metadata": {},
     "output_type": "execute_result"
    }
   ],
   "source": [
    "data=data.dropna()\n",
    "data.describe().round(1)"
   ]
  },
  {
   "cell_type": "code",
   "execution_count": 64,
   "metadata": {
    "collapsed": false
   },
   "outputs": [
    {
     "data": {
      "text/plain": [
       "Ttest_indResult(statistic=12.486499362595312, pvalue=3.2389794818634726e-35)"
      ]
     },
     "execution_count": 64,
     "metadata": {},
     "output_type": "execute_result"
    }
   ],
   "source": [
    "#Prepare datasets for Hypothesis Testing with significance threshold of 0.1\n",
    "#if pvalue>0.1 then there is no statistical difference between the two samples\n",
    "\n",
    "c1=data[data.year <= 1990]\n",
    "c2=data[data.year > 1990]\n",
    "from scipy import stats\n",
    "stats.ttest_ind(c1['rating'],c2['rating'])"
   ]
  },
  {
   "cell_type": "code",
   "execution_count": 65,
   "metadata": {
    "collapsed": false
   },
   "outputs": [
    {
     "data": {
      "text/plain": [
       "(4641, 13)"
      ]
     },
     "execution_count": 65,
     "metadata": {},
     "output_type": "execute_result"
    }
   ],
   "source": [
    "data.to_csv(\"IMDb1.csv\", sep=',', encoding='utf-8')\n",
    "\n",
    "#assigning numeric values to columns with 'object' data type\n",
    "\n",
    "data=pd.read_csv(\"../IMDb/IMDb2.csv\")\n",
    "data=data.drop('id', axis=1)\n",
    "data.shape"
   ]
  },
  {
   "cell_type": "code",
   "execution_count": 66,
   "metadata": {
    "collapsed": false
   },
   "outputs": [
    {
     "data": {
      "text/html": [
       "<div>\n",
       "<table border=\"1\" class=\"dataframe\">\n",
       "  <thead>\n",
       "    <tr style=\"text-align: right;\">\n",
       "      <th></th>\n",
       "      <th>castTotalLikes</th>\n",
       "      <th>directorLikes</th>\n",
       "      <th>actor1likes</th>\n",
       "      <th>movieLikes</th>\n",
       "      <th>fbPosters</th>\n",
       "      <th>year</th>\n",
       "      <th>duration</th>\n",
       "      <th>genre</th>\n",
       "      <th>contentRating</th>\n",
       "      <th>criticReviews</th>\n",
       "      <th>userReviews</th>\n",
       "      <th>userVotes</th>\n",
       "      <th>rating</th>\n",
       "    </tr>\n",
       "  </thead>\n",
       "  <tbody>\n",
       "    <tr>\n",
       "      <th>castTotalLikes</th>\n",
       "      <td>1.000</td>\n",
       "      <td>0.122</td>\n",
       "      <td>0.947</td>\n",
       "      <td>0.216</td>\n",
       "      <td>0.086</td>\n",
       "      <td>0.127</td>\n",
       "      <td>0.130</td>\n",
       "      <td>-0.079</td>\n",
       "      <td>-0.115</td>\n",
       "      <td>0.265</td>\n",
       "      <td>0.205</td>\n",
       "      <td>0.269</td>\n",
       "      <td>0.100</td>\n",
       "    </tr>\n",
       "    <tr>\n",
       "      <th>directorLikes</th>\n",
       "      <td>0.122</td>\n",
       "      <td>1.000</td>\n",
       "      <td>0.095</td>\n",
       "      <td>0.161</td>\n",
       "      <td>-0.043</td>\n",
       "      <td>-0.060</td>\n",
       "      <td>0.177</td>\n",
       "      <td>0.007</td>\n",
       "      <td>-0.018</td>\n",
       "      <td>0.177</td>\n",
       "      <td>0.219</td>\n",
       "      <td>0.295</td>\n",
       "      <td>0.180</td>\n",
       "    </tr>\n",
       "    <tr>\n",
       "      <th>actor1likes</th>\n",
       "      <td>0.947</td>\n",
       "      <td>0.095</td>\n",
       "      <td>1.000</td>\n",
       "      <td>0.141</td>\n",
       "      <td>0.064</td>\n",
       "      <td>0.100</td>\n",
       "      <td>0.093</td>\n",
       "      <td>-0.059</td>\n",
       "      <td>-0.088</td>\n",
       "      <td>0.194</td>\n",
       "      <td>0.146</td>\n",
       "      <td>0.198</td>\n",
       "      <td>0.089</td>\n",
       "    </tr>\n",
       "    <tr>\n",
       "      <th>movieLikes</th>\n",
       "      <td>0.216</td>\n",
       "      <td>0.161</td>\n",
       "      <td>0.141</td>\n",
       "      <td>1.000</td>\n",
       "      <td>0.011</td>\n",
       "      <td>0.238</td>\n",
       "      <td>0.214</td>\n",
       "      <td>-0.082</td>\n",
       "      <td>-0.095</td>\n",
       "      <td>0.690</td>\n",
       "      <td>0.391</td>\n",
       "      <td>0.530</td>\n",
       "      <td>0.261</td>\n",
       "    </tr>\n",
       "    <tr>\n",
       "      <th>fbPosters</th>\n",
       "      <td>0.086</td>\n",
       "      <td>-0.043</td>\n",
       "      <td>0.064</td>\n",
       "      <td>0.011</td>\n",
       "      <td>1.000</td>\n",
       "      <td>0.062</td>\n",
       "      <td>0.022</td>\n",
       "      <td>-0.035</td>\n",
       "      <td>-0.046</td>\n",
       "      <td>-0.033</td>\n",
       "      <td>-0.072</td>\n",
       "      <td>-0.027</td>\n",
       "      <td>-0.072</td>\n",
       "    </tr>\n",
       "    <tr>\n",
       "      <th>year</th>\n",
       "      <td>0.127</td>\n",
       "      <td>-0.060</td>\n",
       "      <td>0.100</td>\n",
       "      <td>0.238</td>\n",
       "      <td>0.062</td>\n",
       "      <td>1.000</td>\n",
       "      <td>-0.127</td>\n",
       "      <td>-0.037</td>\n",
       "      <td>-0.338</td>\n",
       "      <td>0.319</td>\n",
       "      <td>0.017</td>\n",
       "      <td>0.027</td>\n",
       "      <td>-0.214</td>\n",
       "    </tr>\n",
       "    <tr>\n",
       "      <th>duration</th>\n",
       "      <td>0.130</td>\n",
       "      <td>0.177</td>\n",
       "      <td>0.093</td>\n",
       "      <td>0.214</td>\n",
       "      <td>0.022</td>\n",
       "      <td>-0.127</td>\n",
       "      <td>1.000</td>\n",
       "      <td>-0.100</td>\n",
       "      <td>-0.035</td>\n",
       "      <td>0.245</td>\n",
       "      <td>0.353</td>\n",
       "      <td>0.341</td>\n",
       "      <td>0.363</td>\n",
       "    </tr>\n",
       "    <tr>\n",
       "      <th>genre</th>\n",
       "      <td>-0.079</td>\n",
       "      <td>0.007</td>\n",
       "      <td>-0.059</td>\n",
       "      <td>-0.082</td>\n",
       "      <td>-0.035</td>\n",
       "      <td>-0.037</td>\n",
       "      <td>-0.100</td>\n",
       "      <td>1.000</td>\n",
       "      <td>0.183</td>\n",
       "      <td>-0.081</td>\n",
       "      <td>-0.104</td>\n",
       "      <td>-0.123</td>\n",
       "      <td>-0.009</td>\n",
       "    </tr>\n",
       "    <tr>\n",
       "      <th>contentRating</th>\n",
       "      <td>-0.115</td>\n",
       "      <td>-0.018</td>\n",
       "      <td>-0.088</td>\n",
       "      <td>-0.095</td>\n",
       "      <td>-0.046</td>\n",
       "      <td>-0.338</td>\n",
       "      <td>-0.035</td>\n",
       "      <td>0.183</td>\n",
       "      <td>1.000</td>\n",
       "      <td>-0.124</td>\n",
       "      <td>-0.101</td>\n",
       "      <td>-0.098</td>\n",
       "      <td>0.142</td>\n",
       "    </tr>\n",
       "    <tr>\n",
       "      <th>criticReviews</th>\n",
       "      <td>0.265</td>\n",
       "      <td>0.177</td>\n",
       "      <td>0.194</td>\n",
       "      <td>0.690</td>\n",
       "      <td>-0.033</td>\n",
       "      <td>0.319</td>\n",
       "      <td>0.245</td>\n",
       "      <td>-0.081</td>\n",
       "      <td>-0.124</td>\n",
       "      <td>1.000</td>\n",
       "      <td>0.594</td>\n",
       "      <td>0.614</td>\n",
       "      <td>0.342</td>\n",
       "    </tr>\n",
       "    <tr>\n",
       "      <th>userReviews</th>\n",
       "      <td>0.205</td>\n",
       "      <td>0.219</td>\n",
       "      <td>0.146</td>\n",
       "      <td>0.391</td>\n",
       "      <td>-0.072</td>\n",
       "      <td>0.017</td>\n",
       "      <td>0.353</td>\n",
       "      <td>-0.104</td>\n",
       "      <td>-0.101</td>\n",
       "      <td>0.594</td>\n",
       "      <td>1.000</td>\n",
       "      <td>0.793</td>\n",
       "      <td>0.316</td>\n",
       "    </tr>\n",
       "    <tr>\n",
       "      <th>userVotes</th>\n",
       "      <td>0.269</td>\n",
       "      <td>0.295</td>\n",
       "      <td>0.198</td>\n",
       "      <td>0.530</td>\n",
       "      <td>-0.027</td>\n",
       "      <td>0.027</td>\n",
       "      <td>0.341</td>\n",
       "      <td>-0.123</td>\n",
       "      <td>-0.098</td>\n",
       "      <td>0.614</td>\n",
       "      <td>0.793</td>\n",
       "      <td>1.000</td>\n",
       "      <td>0.443</td>\n",
       "    </tr>\n",
       "    <tr>\n",
       "      <th>rating</th>\n",
       "      <td>0.100</td>\n",
       "      <td>0.180</td>\n",
       "      <td>0.089</td>\n",
       "      <td>0.261</td>\n",
       "      <td>-0.072</td>\n",
       "      <td>-0.214</td>\n",
       "      <td>0.363</td>\n",
       "      <td>-0.009</td>\n",
       "      <td>0.142</td>\n",
       "      <td>0.342</td>\n",
       "      <td>0.316</td>\n",
       "      <td>0.443</td>\n",
       "      <td>1.000</td>\n",
       "    </tr>\n",
       "  </tbody>\n",
       "</table>\n",
       "</div>"
      ],
      "text/plain": [
       "                castTotalLikes  directorLikes  actor1likes  movieLikes  \\\n",
       "castTotalLikes           1.000          0.122        0.947       0.216   \n",
       "directorLikes            0.122          1.000        0.095       0.161   \n",
       "actor1likes              0.947          0.095        1.000       0.141   \n",
       "movieLikes               0.216          0.161        0.141       1.000   \n",
       "fbPosters                0.086         -0.043        0.064       0.011   \n",
       "year                     0.127         -0.060        0.100       0.238   \n",
       "duration                 0.130          0.177        0.093       0.214   \n",
       "genre                   -0.079          0.007       -0.059      -0.082   \n",
       "contentRating           -0.115         -0.018       -0.088      -0.095   \n",
       "criticReviews            0.265          0.177        0.194       0.690   \n",
       "userReviews              0.205          0.219        0.146       0.391   \n",
       "userVotes                0.269          0.295        0.198       0.530   \n",
       "rating                   0.100          0.180        0.089       0.261   \n",
       "\n",
       "                fbPosters   year  duration  genre  contentRating  \\\n",
       "castTotalLikes      0.086  0.127     0.130 -0.079         -0.115   \n",
       "directorLikes      -0.043 -0.060     0.177  0.007         -0.018   \n",
       "actor1likes         0.064  0.100     0.093 -0.059         -0.088   \n",
       "movieLikes          0.011  0.238     0.214 -0.082         -0.095   \n",
       "fbPosters           1.000  0.062     0.022 -0.035         -0.046   \n",
       "year                0.062  1.000    -0.127 -0.037         -0.338   \n",
       "duration            0.022 -0.127     1.000 -0.100         -0.035   \n",
       "genre              -0.035 -0.037    -0.100  1.000          0.183   \n",
       "contentRating      -0.046 -0.338    -0.035  0.183          1.000   \n",
       "criticReviews      -0.033  0.319     0.245 -0.081         -0.124   \n",
       "userReviews        -0.072  0.017     0.353 -0.104         -0.101   \n",
       "userVotes          -0.027  0.027     0.341 -0.123         -0.098   \n",
       "rating             -0.072 -0.214     0.363 -0.009          0.142   \n",
       "\n",
       "                criticReviews  userReviews  userVotes  rating  \n",
       "castTotalLikes          0.265        0.205      0.269   0.100  \n",
       "directorLikes           0.177        0.219      0.295   0.180  \n",
       "actor1likes             0.194        0.146      0.198   0.089  \n",
       "movieLikes              0.690        0.391      0.530   0.261  \n",
       "fbPosters              -0.033       -0.072     -0.027  -0.072  \n",
       "year                    0.319        0.017      0.027  -0.214  \n",
       "duration                0.245        0.353      0.341   0.363  \n",
       "genre                  -0.081       -0.104     -0.123  -0.009  \n",
       "contentRating          -0.124       -0.101     -0.098   0.142  \n",
       "criticReviews           1.000        0.594      0.614   0.342  \n",
       "userReviews             0.594        1.000      0.793   0.316  \n",
       "userVotes               0.614        0.793      1.000   0.443  \n",
       "rating                  0.342        0.316      0.443   1.000  "
      ]
     },
     "execution_count": 66,
     "metadata": {},
     "output_type": "execute_result"
    }
   ],
   "source": [
    "data.corr().round(3)"
   ]
  },
  {
   "cell_type": "code",
   "execution_count": 67,
   "metadata": {
    "collapsed": false
   },
   "outputs": [],
   "source": [
    "#drop variable 'actor1likes' since 'actor1likes-movieLikes' are highly correlated\n",
    "data=data.drop('actor1likes', axis=1)"
   ]
  },
  {
   "cell_type": "code",
   "execution_count": 68,
   "metadata": {
    "collapsed": false
   },
   "outputs": [
    {
     "data": {
      "image/png": "[encoded data removed]",
      "text/plain": [
       "<matplotlib.figure.Figure at 0xe307d2a400>"
      ]
     },
     "metadata": {},
     "output_type": "display_data"
    }
   ],
   "source": [
    "#Variables have roughly the same scale and unit, hence the need for Pre-Processing is eliminated\n",
    "pd.DataFrame.hist(data, figsize = [15,15]);"
   ]
  },
  {
   "cell_type": "code",
   "execution_count": null,
   "metadata": {
    "collapsed": true
   },
   "outputs": [],
   "source": []
  },
  {
   "cell_type": "code",
   "execution_count": null,
   "metadata": {
    "collapsed": true
   },
   "outputs": [],
   "source": []
  },
  {
   "cell_type": "code",
   "execution_count": null,
   "metadata": {
    "collapsed": true
   },
   "outputs": [],
   "source": []
  },
  {
   "cell_type": "code",
   "execution_count": 69,
   "metadata": {
    "collapsed": true
   },
   "outputs": [],
   "source": [
    "#Run Linear Regression Model"
   ]
  },
  {
   "cell_type": "code",
   "execution_count": 70,
   "metadata": {
    "collapsed": false
   },
   "outputs": [],
   "source": [
    "#Linear model was cross validated for different combination of variables and the least significant variables were dropped\n",
    "#Model with the least AIC and highest R-squared is selected\n",
    "\n",
    "x=data.drop(['rating','movieLikes','directorLikes','genre','castTotalLikes'], axis=1)\n",
    "y=data.rating"
   ]
  },
  {
   "cell_type": "code",
   "execution_count": 71,
   "metadata": {
    "collapsed": false
   },
   "outputs": [
    {
     "name": "stdout",
     "output_type": "stream",
     "text": [
      "(2784, 7)\n",
      "(2784,)\n",
      "(1857, 7)\n",
      "(1857,)\n"
     ]
    }
   ],
   "source": [
    "#Splitting the data into Training and Test set\n",
    "from sklearn.cross_validation import train_test_split\n",
    "X_train,X_test,y_train,y_test=train_test_split(x,y,random_state=0,test_size=0.40)\n",
    "print (X_train.shape) \n",
    "print (y_train.shape) \n",
    "print (X_test.shape) \n",
    "print (y_test.shape)"
   ]
  },
  {
   "cell_type": "code",
   "execution_count": 72,
   "metadata": {
    "collapsed": false
   },
   "outputs": [
    {
     "name": "stdout",
     "output_type": "stream",
     "text": [
      "                            OLS Regression Results                            \n",
      "==============================================================================\n",
      "Dep. Variable:                 rating   R-squared:                       0.979\n",
      "Model:                            OLS   Adj. R-squared:                  0.979\n",
      "Method:                 Least Squares   F-statistic:                 1.876e+04\n",
      "Date:                Thu, 30 Mar 2017   Prob (F-statistic):               0.00\n",
      "Time:                        16:50:54   Log-Likelihood:                -3768.6\n",
      "No. Observations:                2784   AIC:                             7551.\n",
      "Df Residuals:                    2777   BIC:                             7593.\n",
      "Df Model:                           7                                         \n",
      "Covariance Type:            nonrobust                                         \n",
      "=================================================================================\n",
      "                    coef    std err          t      P>|t|      [95.0% Conf. Int.]\n",
      "---------------------------------------------------------------------------------\n",
      "fbPosters        -0.0420      0.009     -4.642      0.000        -0.060    -0.024\n",
      "year              0.0022   4.82e-05     45.985      0.000         0.002     0.002\n",
      "duration          0.0135      0.001     15.562      0.000         0.012     0.015\n",
      "contentRating     0.1200      0.010     12.122      0.000         0.101     0.139\n",
      "criticReviews     0.0013      0.000      6.710      0.000         0.001     0.002\n",
      "userReviews      -0.0005   7.65e-05     -6.727      0.000        -0.001    -0.000\n",
      "userVotes      3.248e-06   2.17e-07     14.940      0.000      2.82e-06  3.67e-06\n",
      "==============================================================================\n",
      "Omnibus:                      350.876   Durbin-Watson:                   2.006\n",
      "Prob(Omnibus):                  0.000   Jarque-Bera (JB):              632.304\n",
      "Skew:                          -0.822   Prob(JB):                    4.98e-138\n",
      "Kurtosis:                       4.658   Cond. No.                     9.42e+04\n",
      "==============================================================================\n",
      "\n",
      "Warnings:\n",
      "[1] Standard Errors assume that the covariance matrix of the errors is correctly specified.\n",
      "[2] The condition number is large, 9.42e+04. This might indicate that there are\n",
      "strong multicollinearity or other numerical problems.\n"
     ]
    }
   ],
   "source": [
    "import statsmodels.api as sm\n",
    "model=sm.OLS(y_train,X_train)\n",
    "results=model.fit()\n",
    "print (results.summary())"
   ]
  },
  {
   "cell_type": "code",
   "execution_count": 73,
   "metadata": {
    "collapsed": false
   },
   "outputs": [
    {
     "data": {
      "text/html": [
       "<div>\n",
       "<table border=\"1\" class=\"dataframe\">\n",
       "  <thead>\n",
       "    <tr style=\"text-align: right;\">\n",
       "      <th></th>\n",
       "      <th>pred</th>\n",
       "      <th>actual</th>\n",
       "      <th>difference</th>\n",
       "    </tr>\n",
       "  </thead>\n",
       "  <tbody>\n",
       "    <tr>\n",
       "      <th>0</th>\n",
       "      <td>6.9</td>\n",
       "      <td>8.1</td>\n",
       "      <td>1.2</td>\n",
       "    </tr>\n",
       "  </tbody>\n",
       "</table>\n",
       "</div>"
      ],
      "text/plain": [
       "   pred  actual  difference\n",
       "0   6.9     8.1         1.2"
      ]
     },
     "execution_count": 73,
     "metadata": {},
     "output_type": "execute_result"
    }
   ],
   "source": [
    "#Calculating difference between Predicted and Actual Ratings\n",
    "\n",
    "pred=results.predict(X_test)\n",
    "\n",
    "h=pd.DataFrame(pred)\n",
    "h=h.round(1)\n",
    "g=pd.DataFrame(y_test)\n",
    "g=g.reset_index(drop=True)\n",
    "h['rating']=g\n",
    "h.columns=['pred','actual']\n",
    "h['difference']=round(abs(h.pred-h.actual),2)\n",
    "h[:1]"
   ]
  },
  {
   "cell_type": "code",
   "execution_count": 74,
   "metadata": {
    "collapsed": false
   },
   "outputs": [
    {
     "data": {
      "text/plain": [
       "0.6982"
      ]
     },
     "execution_count": 74,
     "metadata": {},
     "output_type": "execute_result"
    }
   ],
   "source": [
    "#Optimizing model to achieve a mean score of difference variable close to 0.5\n",
    "\n",
    "round(h.difference.mean(),4)"
   ]
  },
  {
   "cell_type": "code",
   "execution_count": 75,
   "metadata": {
    "collapsed": false
   },
   "outputs": [
    {
     "data": {
      "text/plain": [
       "<matplotlib.text.Text at 0xe30dc84860>"
      ]
     },
     "execution_count": 75,
     "metadata": {},
     "output_type": "execute_result"
    },
    {
     "data": {
      "image/png": "[encoded data removed]",
      "text/plain": [
       "<matplotlib.figure.Figure at 0xe30e280400>"
      ]
     },
     "metadata": {},
     "output_type": "display_data"
    }
   ],
   "source": [
    "plt.hist(h.difference,bins=12)\n",
    "plt.xlim(0.5,)\n",
    "plt.title(\"Difference\")"
   ]
  },
  {
   "cell_type": "code",
   "execution_count": 78,
   "metadata": {
    "collapsed": false
   },
   "outputs": [
    {
     "name": "stdout",
     "output_type": "stream",
     "text": [
      "Predictions within +/-1.0 star: 1459.000000\n",
      "Total Predictions:              1857.000000\n",
      "Accuracy for Linear Regression: 0.785676\n"
     ]
    }
   ],
   "source": [
    "print(\"Predictions within +/-1.0 star: %f\"%((h.difference<1.1).sum()))\n",
    "print('Total Predictions:              %f'%(h.difference).count())\n",
    "print ('Accuracy for Linear Regression: %f'%(((h.difference<1.1).sum())/(h.difference.count())))"
   ]
  },
  {
   "cell_type": "code",
   "execution_count": null,
   "metadata": {
    "collapsed": true
   },
   "outputs": [],
   "source": []
  },
  {
   "cell_type": "code",
   "execution_count": null,
   "metadata": {
    "collapsed": true
   },
   "outputs": [],
   "source": []
  },
  {
   "cell_type": "code",
   "execution_count": null,
   "metadata": {
    "collapsed": true
   },
   "outputs": [],
   "source": []
  },
  {
   "cell_type": "code",
   "execution_count": 79,
   "metadata": {
    "collapsed": false
   },
   "outputs": [],
   "source": [
    "#Run KNN CLassifier Model"
   ]
  },
  {
   "cell_type": "code",
   "execution_count": 80,
   "metadata": {
    "collapsed": false
   },
   "outputs": [],
   "source": [
    "#Binning 'Ratings' variable into groups\n",
    "\n",
    "h=data\n",
    "bins=[0.0,3.0,5.0,7.5,10.0]\n",
    "groups=['D','C','B','A']\n",
    "h['categories']=pd.cut(h.rating,bins,labels=groups)\n",
    "\n",
    "x=h.drop(['rating','categories'], axis=1)\n",
    "y=h.categories"
   ]
  },
  {
   "cell_type": "code",
   "execution_count": 81,
   "metadata": {
    "collapsed": false
   },
   "outputs": [
    {
     "name": "stdout",
     "output_type": "stream",
     "text": [
      "(2784, 11)\n",
      "(2784,)\n",
      "(1857, 11)\n",
      "(1857,)\n"
     ]
    }
   ],
   "source": [
    "#Splitting data into Training and Test set\n",
    "\n",
    "from sklearn import metrics\n",
    "from sklearn.neighbors import KNeighborsClassifier\n",
    "X_train,X_test,y_train,y_test=train_test_split(x,y,random_state=0,test_size=0.40)\n",
    "print (X_train.shape) \n",
    "print (y_train.shape) \n",
    "print (X_test.shape) \n",
    "print (y_test.shape)"
   ]
  },
  {
   "cell_type": "code",
   "execution_count": 82,
   "metadata": {
    "collapsed": false
   },
   "outputs": [
    {
     "data": {
      "text/plain": [
       "<matplotlib.text.Text at 0xe30d8db8d0>"
      ]
     },
     "execution_count": 82,
     "metadata": {},
     "output_type": "execute_result"
    },
    {
     "data": {
      "image/png": "[encoded data removed]",
      "text/plain": [
       "<matplotlib.figure.Figure at 0xe307d2a160>"
      ]
     },
     "metadata": {},
     "output_type": "display_data"
    }
   ],
   "source": [
    "#Cross Validating model performance for range of 'K' neighbours\n",
    "\n",
    "k_range=range(25,40)\n",
    "k_scores=[]\n",
    "\n",
    "for k in k_range:\n",
    "    knn=KNeighborsClassifier(n_neighbors=k)\n",
    "    knn.fit(X_train,y_train)\n",
    "    pred=knn.predict(X_test)\n",
    "    z=metrics.accuracy_score(y_test,pred)\n",
    "    k_scores.append(z)\n",
    "\n",
    "plt.plot(k_range,k_scores)\n",
    "plt.xlabel('Value of K')\n",
    "plt.ylabel('Accuracy')"
   ]
  },
  {
   "cell_type": "code",
   "execution_count": 83,
   "metadata": {
    "collapsed": false
   },
   "outputs": [
    {
     "name": "stdout",
     "output_type": "stream",
     "text": [
      "Maximum Accuracy for KNN: 0.788907\n"
     ]
    }
   ],
   "source": [
    "k_scores=pd.DataFrame(k_scores)\n",
    "print('Maximum Accuracy for KNN: %f'%k_scores.max())"
   ]
  }
 ],
 "metadata": {
  "anaconda-cloud": {},
  "kernelspec": {
   "display_name": "Python [conda root]",
   "language": "python",
   "name": "conda-root-py"
  },
  "language_info": {
   "codemirror_mode": {
    "name": "ipython",
    "version": 3
   },
   "file_extension": ".py",
   "mimetype": "text/x-python",
   "name": "python",
   "nbconvert_exporter": "python",
   "pygments_lexer": "ipython3",
   "version": "3.5.2"
  }
 },
 "nbformat": 4,
 "nbformat_minor": 1
}
